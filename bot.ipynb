{
 "cells": [
  {
   "cell_type": "code",
   "execution_count": 1,
   "metadata": {
    "collapsed": true
   },
   "outputs": [],
   "source": [
    "import vectorbt as vbt\n",
    "import pandas as pd\n",
    "import pandas_ta as ta\n",
    "from datetime import datetime\n",
    "from alpaca.broker.client import BrokerClient\n",
    "from alpaca.data.historical import CryptoHistoricalDataClient, StockHistoricalDataClient\n",
    "from alpaca.data.requests import CryptoBarsRequest, StockBarsRequest\n",
    "from alpaca.data.timeframe import TimeFrame\n",
    "from alpaca.data.historical import StockHistoricalDataClient, CryptoHistoricalDataClient\n",
    "from loguru import logger"
   ]
  },
  {
   "cell_type": "code",
   "execution_count": 2,
   "outputs": [
    {
     "data": {
      "text/plain": "['/home/eproject/veehuen/python/jupyter/vectorbt_opt',\n '/home/eproject/veehuen/python/jupyter/vectorbt_opt',\n '/home/eproject/anaconda3/envs/blankly/lib/python310.zip',\n '/home/eproject/anaconda3/envs/blankly/lib/python3.10',\n '/home/eproject/anaconda3/envs/blankly/lib/python3.10/lib-dynload',\n '',\n '/home/eproject/veehuen/python/jupyter/vectorbt_opt/venv/lib/python3.10/site-packages']"
     },
     "execution_count": 2,
     "metadata": {},
     "output_type": "execute_result"
    }
   ],
   "source": [
    "import sys\n",
    "sys.path"
   ],
   "metadata": {
    "collapsed": false
   }
  },
  {
   "cell_type": "code",
   "execution_count": 3,
   "outputs": [],
   "source": [
    "from config import ALPACA_KEY_ID, ALPACA_SECRET_KEY"
   ],
   "metadata": {
    "collapsed": false
   }
  },
  {
   "cell_type": "code",
   "execution_count": 7,
   "outputs": [
    {
     "data": {
      "text/plain": "datetime.datetime(2022, 1, 1, 0, 0)"
     },
     "execution_count": 7,
     "metadata": {},
     "output_type": "execute_result"
    }
   ],
   "source": [
    "datetime.strptime('2022-01-01', '%Y-%m-%d')"
   ],
   "metadata": {
    "collapsed": false
   }
  },
  {
   "cell_type": "code",
   "execution_count": 28,
   "outputs": [],
   "source": [
    "broker_client = BrokerClient(ALPACA_KEY_ID, ALPACA_SECRET_KEY)\n",
    "stock_history_client = StockHistoricalDataClient(ALPACA_KEY_ID, ALPACA_SECRET_KEY)\n",
    "request_params = StockBarsRequest(\n",
    "    symbol_or_symbols='SPY',\n",
    "    timeframe=TimeFrame.Hour,\n",
    "    start=datetime.strptime('2022-01-01', '%Y-%m-%d')\n",
    ")"
   ],
   "metadata": {
    "collapsed": false
   }
  },
  {
   "cell_type": "code",
   "execution_count": 29,
   "outputs": [],
   "source": [
    "bars = stock_history_client.get_stock_bars(request_params)\n"
   ],
   "metadata": {
    "collapsed": false
   }
  },
  {
   "cell_type": "code",
   "execution_count": 30,
   "outputs": [
    {
     "data": {
      "text/plain": "                  0                                       1               2  \\\n0     (symbol, SPY)  (timestamp, 2022-01-01 00:00:00+00:00)  (open, 475.07)   \n1     (symbol, SPY)  (timestamp, 2022-01-03 05:00:00+00:00)  (open, 476.84)   \n2     (symbol, SPY)  (timestamp, 2022-01-03 09:00:00+00:00)  (open, 476.38)   \n3     (symbol, SPY)  (timestamp, 2022-01-03 10:00:00+00:00)  (open, 477.24)   \n4     (symbol, SPY)  (timestamp, 2022-01-03 11:00:00+00:00)  (open, 477.76)   \n...             ...                                     ...             ...   \n3916  (symbol, SPY)  (timestamp, 2022-10-24 20:00:00+00:00)  (open, 378.84)   \n3917  (symbol, SPY)  (timestamp, 2022-10-24 21:00:00+00:00)  (open, 378.37)   \n3918  (symbol, SPY)  (timestamp, 2022-10-24 22:00:00+00:00)  (open, 378.47)   \n3919  (symbol, SPY)  (timestamp, 2022-10-24 23:00:00+00:00)  (open, 379.22)   \n3920  (symbol, SPY)  (timestamp, 2022-10-25 08:00:00+00:00)   (open, 378.0)   \n\n                   3              4                5                    6  \\\n0     (high, 475.32)  (low, 475.04)  (close, 475.32)    (volume, 19733.0)   \n1     (high, 476.84)  (low, 476.84)  (close, 476.84)     (volume, 4500.0)   \n2     (high, 477.25)  (low, 476.38)  (close, 477.25)    (volume, 57914.0)   \n3     (high, 477.76)  (low, 477.15)  (close, 477.76)    (volume, 36511.0)   \n4     (high, 478.09)  (low, 477.76)   (close, 478.0)    (volume, 74874.0)   \n...              ...            ...              ...                  ...   \n3916  (high, 378.89)  (low, 378.21)   (close, 378.4)  (volume, 8956807.0)   \n3917  (high, 378.75)  (low, 378.35)  (close, 378.47)  (volume, 2372381.0)   \n3918  (high, 379.24)   (low, 378.3)  (close, 379.24)   (volume, 162797.0)   \n3919  (high, 379.44)  (low, 378.71)  (close, 378.86)   (volume, 117350.0)   \n3920  (high, 379.25)   (low, 378.0)   (close, 378.7)    (volume, 33748.0)   \n\n                          7                   8  \n0      (trade_count, 120.0)   (vwap, 475.14538)  \n1        (trade_count, 1.0)      (vwap, 476.84)  \n2      (trade_count, 562.0)  (vwap, 476.804707)  \n3      (trade_count, 396.0)  (vwap, 477.509115)  \n4      (trade_count, 497.0)  (vwap, 477.985606)  \n...                     ...                 ...  \n3916  (trade_count, 8632.0)  (vwap, 378.760068)  \n3917  (trade_count, 1291.0)  (vwap, 378.848561)  \n3918  (trade_count, 1255.0)  (vwap, 378.615564)  \n3919  (trade_count, 1113.0)  (vwap, 379.117372)  \n3920   (trade_count, 280.0)  (vwap, 378.876353)  \n\n[3921 rows x 9 columns]",
      "text/html": "<div>\n<style scoped>\n    .dataframe tbody tr th:only-of-type {\n        vertical-align: middle;\n    }\n\n    .dataframe tbody tr th {\n        vertical-align: top;\n    }\n\n    .dataframe thead th {\n        text-align: right;\n    }\n</style>\n<table border=\"1\" class=\"dataframe\">\n  <thead>\n    <tr style=\"text-align: right;\">\n      <th></th>\n      <th>0</th>\n      <th>1</th>\n      <th>2</th>\n      <th>3</th>\n      <th>4</th>\n      <th>5</th>\n      <th>6</th>\n      <th>7</th>\n      <th>8</th>\n    </tr>\n  </thead>\n  <tbody>\n    <tr>\n      <th>0</th>\n      <td>(symbol, SPY)</td>\n      <td>(timestamp, 2022-01-01 00:00:00+00:00)</td>\n      <td>(open, 475.07)</td>\n      <td>(high, 475.32)</td>\n      <td>(low, 475.04)</td>\n      <td>(close, 475.32)</td>\n      <td>(volume, 19733.0)</td>\n      <td>(trade_count, 120.0)</td>\n      <td>(vwap, 475.14538)</td>\n    </tr>\n    <tr>\n      <th>1</th>\n      <td>(symbol, SPY)</td>\n      <td>(timestamp, 2022-01-03 05:00:00+00:00)</td>\n      <td>(open, 476.84)</td>\n      <td>(high, 476.84)</td>\n      <td>(low, 476.84)</td>\n      <td>(close, 476.84)</td>\n      <td>(volume, 4500.0)</td>\n      <td>(trade_count, 1.0)</td>\n      <td>(vwap, 476.84)</td>\n    </tr>\n    <tr>\n      <th>2</th>\n      <td>(symbol, SPY)</td>\n      <td>(timestamp, 2022-01-03 09:00:00+00:00)</td>\n      <td>(open, 476.38)</td>\n      <td>(high, 477.25)</td>\n      <td>(low, 476.38)</td>\n      <td>(close, 477.25)</td>\n      <td>(volume, 57914.0)</td>\n      <td>(trade_count, 562.0)</td>\n      <td>(vwap, 476.804707)</td>\n    </tr>\n    <tr>\n      <th>3</th>\n      <td>(symbol, SPY)</td>\n      <td>(timestamp, 2022-01-03 10:00:00+00:00)</td>\n      <td>(open, 477.24)</td>\n      <td>(high, 477.76)</td>\n      <td>(low, 477.15)</td>\n      <td>(close, 477.76)</td>\n      <td>(volume, 36511.0)</td>\n      <td>(trade_count, 396.0)</td>\n      <td>(vwap, 477.509115)</td>\n    </tr>\n    <tr>\n      <th>4</th>\n      <td>(symbol, SPY)</td>\n      <td>(timestamp, 2022-01-03 11:00:00+00:00)</td>\n      <td>(open, 477.76)</td>\n      <td>(high, 478.09)</td>\n      <td>(low, 477.76)</td>\n      <td>(close, 478.0)</td>\n      <td>(volume, 74874.0)</td>\n      <td>(trade_count, 497.0)</td>\n      <td>(vwap, 477.985606)</td>\n    </tr>\n    <tr>\n      <th>...</th>\n      <td>...</td>\n      <td>...</td>\n      <td>...</td>\n      <td>...</td>\n      <td>...</td>\n      <td>...</td>\n      <td>...</td>\n      <td>...</td>\n      <td>...</td>\n    </tr>\n    <tr>\n      <th>3916</th>\n      <td>(symbol, SPY)</td>\n      <td>(timestamp, 2022-10-24 20:00:00+00:00)</td>\n      <td>(open, 378.84)</td>\n      <td>(high, 378.89)</td>\n      <td>(low, 378.21)</td>\n      <td>(close, 378.4)</td>\n      <td>(volume, 8956807.0)</td>\n      <td>(trade_count, 8632.0)</td>\n      <td>(vwap, 378.760068)</td>\n    </tr>\n    <tr>\n      <th>3917</th>\n      <td>(symbol, SPY)</td>\n      <td>(timestamp, 2022-10-24 21:00:00+00:00)</td>\n      <td>(open, 378.37)</td>\n      <td>(high, 378.75)</td>\n      <td>(low, 378.35)</td>\n      <td>(close, 378.47)</td>\n      <td>(volume, 2372381.0)</td>\n      <td>(trade_count, 1291.0)</td>\n      <td>(vwap, 378.848561)</td>\n    </tr>\n    <tr>\n      <th>3918</th>\n      <td>(symbol, SPY)</td>\n      <td>(timestamp, 2022-10-24 22:00:00+00:00)</td>\n      <td>(open, 378.47)</td>\n      <td>(high, 379.24)</td>\n      <td>(low, 378.3)</td>\n      <td>(close, 379.24)</td>\n      <td>(volume, 162797.0)</td>\n      <td>(trade_count, 1255.0)</td>\n      <td>(vwap, 378.615564)</td>\n    </tr>\n    <tr>\n      <th>3919</th>\n      <td>(symbol, SPY)</td>\n      <td>(timestamp, 2022-10-24 23:00:00+00:00)</td>\n      <td>(open, 379.22)</td>\n      <td>(high, 379.44)</td>\n      <td>(low, 378.71)</td>\n      <td>(close, 378.86)</td>\n      <td>(volume, 117350.0)</td>\n      <td>(trade_count, 1113.0)</td>\n      <td>(vwap, 379.117372)</td>\n    </tr>\n    <tr>\n      <th>3920</th>\n      <td>(symbol, SPY)</td>\n      <td>(timestamp, 2022-10-25 08:00:00+00:00)</td>\n      <td>(open, 378.0)</td>\n      <td>(high, 379.25)</td>\n      <td>(low, 378.0)</td>\n      <td>(close, 378.7)</td>\n      <td>(volume, 33748.0)</td>\n      <td>(trade_count, 280.0)</td>\n      <td>(vwap, 378.876353)</td>\n    </tr>\n  </tbody>\n</table>\n<p>3921 rows × 9 columns</p>\n</div>"
     },
     "execution_count": 30,
     "metadata": {},
     "output_type": "execute_result"
    }
   ],
   "source": [
    "df = pd.DataFrame(bars.data['SPY'])\n",
    "df"
   ],
   "metadata": {
    "collapsed": false
   }
  },
  {
   "cell_type": "code",
   "execution_count": 31,
   "outputs": [
    {
     "data": {
      "text/plain": "                                    open    high     low   close     volume  \\\nsymbol timestamp                                                              \nSPY    2022-01-01 00:00:00+00:00  475.07  475.32  475.04  475.32    19733.0   \n       2022-01-03 05:00:00+00:00  476.84  476.84  476.84  476.84     4500.0   \n       2022-01-03 09:00:00+00:00  476.38  477.25  476.38  477.25    57914.0   \n       2022-01-03 10:00:00+00:00  477.24  477.76  477.15  477.76    36511.0   \n       2022-01-03 11:00:00+00:00  477.76  478.09  477.76  478.00    74874.0   \n...                                  ...     ...     ...     ...        ...   \n       2022-10-24 20:00:00+00:00  378.84  378.89  378.21  378.40  8956807.0   \n       2022-10-24 21:00:00+00:00  378.37  378.75  378.35  378.47  2372381.0   \n       2022-10-24 22:00:00+00:00  378.47  379.24  378.30  379.24   162797.0   \n       2022-10-24 23:00:00+00:00  379.22  379.44  378.71  378.86   117350.0   \n       2022-10-25 08:00:00+00:00  378.00  379.25  378.00  378.70    33748.0   \n\n                                  trade_count        vwap  \nsymbol timestamp                                           \nSPY    2022-01-01 00:00:00+00:00        120.0  475.145380  \n       2022-01-03 05:00:00+00:00          1.0  476.840000  \n       2022-01-03 09:00:00+00:00        562.0  476.804707  \n       2022-01-03 10:00:00+00:00        396.0  477.509115  \n       2022-01-03 11:00:00+00:00        497.0  477.985606  \n...                                       ...         ...  \n       2022-10-24 20:00:00+00:00       8632.0  378.760068  \n       2022-10-24 21:00:00+00:00       1291.0  378.848561  \n       2022-10-24 22:00:00+00:00       1255.0  378.615564  \n       2022-10-24 23:00:00+00:00       1113.0  379.117372  \n       2022-10-25 08:00:00+00:00        280.0  378.876353  \n\n[3921 rows x 7 columns]",
      "text/html": "<div>\n<style scoped>\n    .dataframe tbody tr th:only-of-type {\n        vertical-align: middle;\n    }\n\n    .dataframe tbody tr th {\n        vertical-align: top;\n    }\n\n    .dataframe thead th {\n        text-align: right;\n    }\n</style>\n<table border=\"1\" class=\"dataframe\">\n  <thead>\n    <tr style=\"text-align: right;\">\n      <th></th>\n      <th></th>\n      <th>open</th>\n      <th>high</th>\n      <th>low</th>\n      <th>close</th>\n      <th>volume</th>\n      <th>trade_count</th>\n      <th>vwap</th>\n    </tr>\n    <tr>\n      <th>symbol</th>\n      <th>timestamp</th>\n      <th></th>\n      <th></th>\n      <th></th>\n      <th></th>\n      <th></th>\n      <th></th>\n      <th></th>\n    </tr>\n  </thead>\n  <tbody>\n    <tr>\n      <th rowspan=\"11\" valign=\"top\">SPY</th>\n      <th>2022-01-01 00:00:00+00:00</th>\n      <td>475.07</td>\n      <td>475.32</td>\n      <td>475.04</td>\n      <td>475.32</td>\n      <td>19733.0</td>\n      <td>120.0</td>\n      <td>475.145380</td>\n    </tr>\n    <tr>\n      <th>2022-01-03 05:00:00+00:00</th>\n      <td>476.84</td>\n      <td>476.84</td>\n      <td>476.84</td>\n      <td>476.84</td>\n      <td>4500.0</td>\n      <td>1.0</td>\n      <td>476.840000</td>\n    </tr>\n    <tr>\n      <th>2022-01-03 09:00:00+00:00</th>\n      <td>476.38</td>\n      <td>477.25</td>\n      <td>476.38</td>\n      <td>477.25</td>\n      <td>57914.0</td>\n      <td>562.0</td>\n      <td>476.804707</td>\n    </tr>\n    <tr>\n      <th>2022-01-03 10:00:00+00:00</th>\n      <td>477.24</td>\n      <td>477.76</td>\n      <td>477.15</td>\n      <td>477.76</td>\n      <td>36511.0</td>\n      <td>396.0</td>\n      <td>477.509115</td>\n    </tr>\n    <tr>\n      <th>2022-01-03 11:00:00+00:00</th>\n      <td>477.76</td>\n      <td>478.09</td>\n      <td>477.76</td>\n      <td>478.00</td>\n      <td>74874.0</td>\n      <td>497.0</td>\n      <td>477.985606</td>\n    </tr>\n    <tr>\n      <th>...</th>\n      <td>...</td>\n      <td>...</td>\n      <td>...</td>\n      <td>...</td>\n      <td>...</td>\n      <td>...</td>\n      <td>...</td>\n    </tr>\n    <tr>\n      <th>2022-10-24 20:00:00+00:00</th>\n      <td>378.84</td>\n      <td>378.89</td>\n      <td>378.21</td>\n      <td>378.40</td>\n      <td>8956807.0</td>\n      <td>8632.0</td>\n      <td>378.760068</td>\n    </tr>\n    <tr>\n      <th>2022-10-24 21:00:00+00:00</th>\n      <td>378.37</td>\n      <td>378.75</td>\n      <td>378.35</td>\n      <td>378.47</td>\n      <td>2372381.0</td>\n      <td>1291.0</td>\n      <td>378.848561</td>\n    </tr>\n    <tr>\n      <th>2022-10-24 22:00:00+00:00</th>\n      <td>378.47</td>\n      <td>379.24</td>\n      <td>378.30</td>\n      <td>379.24</td>\n      <td>162797.0</td>\n      <td>1255.0</td>\n      <td>378.615564</td>\n    </tr>\n    <tr>\n      <th>2022-10-24 23:00:00+00:00</th>\n      <td>379.22</td>\n      <td>379.44</td>\n      <td>378.71</td>\n      <td>378.86</td>\n      <td>117350.0</td>\n      <td>1113.0</td>\n      <td>379.117372</td>\n    </tr>\n    <tr>\n      <th>2022-10-25 08:00:00+00:00</th>\n      <td>378.00</td>\n      <td>379.25</td>\n      <td>378.00</td>\n      <td>378.70</td>\n      <td>33748.0</td>\n      <td>280.0</td>\n      <td>378.876353</td>\n    </tr>\n  </tbody>\n</table>\n<p>3921 rows × 7 columns</p>\n</div>"
     },
     "execution_count": 31,
     "metadata": {},
     "output_type": "execute_result"
    }
   ],
   "source": [
    "df = bars.df\n",
    "df"
   ],
   "metadata": {
    "collapsed": false
   }
  },
  {
   "cell_type": "code",
   "execution_count": 27,
   "outputs": [
    {
     "data": {
      "text/plain": "                             open    high     low   close       volume  \\\ntimestamp                                                                \n2022-01-03 05:00:00+00:00  476.45  477.85  473.85  477.71   72604064.0   \n2022-01-04 05:00:00+00:00  479.26  479.98  475.58  477.55   71129958.0   \n2022-01-05 05:00:00+00:00  477.25  477.98  468.29  468.38  102085598.0   \n2022-01-06 05:00:00+00:00  468.00  470.82  465.43  467.94   86499197.0   \n2022-01-07 05:00:00+00:00  468.00  469.20  464.65  466.09   84895774.0   \n...                           ...     ...     ...     ...          ...   \n2022-10-18 04:00:00+00:00  375.07  375.45  367.52  371.13   96898206.0   \n2022-10-19 04:00:00+00:00  368.98  371.85  365.55  368.50   79481512.0   \n2022-10-20 04:00:00+00:00  368.07  372.67  364.61  365.41   87963935.0   \n2022-10-21 04:00:00+00:00  365.11  374.80  363.54  374.29  130542269.0   \n2022-10-24 04:00:00+00:00  375.94  380.06  373.11  378.87   85131661.0   \n\n                           trade_count        vwap  \ntimestamp                                           \n2022-01-03 05:00:00+00:00     534803.0  476.526964  \n2022-01-04 05:00:00+00:00     565259.0  477.868706  \n2022-01-05 05:00:00+00:00     784945.0  473.338984  \n2022-01-06 05:00:00+00:00     803296.0  468.480666  \n2022-01-07 05:00:00+00:00     623749.0  466.940793  \n...                                ...         ...  \n2022-10-18 04:00:00+00:00     675916.0  371.126991  \n2022-10-19 04:00:00+00:00     531675.0  368.665769  \n2022-10-20 04:00:00+00:00     634944.0  367.710482  \n2022-10-21 04:00:00+00:00     718723.0  369.862865  \n2022-10-24 04:00:00+00:00     624488.0  377.367392  \n\n[204 rows x 7 columns]",
      "text/html": "<div>\n<style scoped>\n    .dataframe tbody tr th:only-of-type {\n        vertical-align: middle;\n    }\n\n    .dataframe tbody tr th {\n        vertical-align: top;\n    }\n\n    .dataframe thead th {\n        text-align: right;\n    }\n</style>\n<table border=\"1\" class=\"dataframe\">\n  <thead>\n    <tr style=\"text-align: right;\">\n      <th></th>\n      <th>open</th>\n      <th>high</th>\n      <th>low</th>\n      <th>close</th>\n      <th>volume</th>\n      <th>trade_count</th>\n      <th>vwap</th>\n    </tr>\n    <tr>\n      <th>timestamp</th>\n      <th></th>\n      <th></th>\n      <th></th>\n      <th></th>\n      <th></th>\n      <th></th>\n      <th></th>\n    </tr>\n  </thead>\n  <tbody>\n    <tr>\n      <th>2022-01-03 05:00:00+00:00</th>\n      <td>476.45</td>\n      <td>477.85</td>\n      <td>473.85</td>\n      <td>477.71</td>\n      <td>72604064.0</td>\n      <td>534803.0</td>\n      <td>476.526964</td>\n    </tr>\n    <tr>\n      <th>2022-01-04 05:00:00+00:00</th>\n      <td>479.26</td>\n      <td>479.98</td>\n      <td>475.58</td>\n      <td>477.55</td>\n      <td>71129958.0</td>\n      <td>565259.0</td>\n      <td>477.868706</td>\n    </tr>\n    <tr>\n      <th>2022-01-05 05:00:00+00:00</th>\n      <td>477.25</td>\n      <td>477.98</td>\n      <td>468.29</td>\n      <td>468.38</td>\n      <td>102085598.0</td>\n      <td>784945.0</td>\n      <td>473.338984</td>\n    </tr>\n    <tr>\n      <th>2022-01-06 05:00:00+00:00</th>\n      <td>468.00</td>\n      <td>470.82</td>\n      <td>465.43</td>\n      <td>467.94</td>\n      <td>86499197.0</td>\n      <td>803296.0</td>\n      <td>468.480666</td>\n    </tr>\n    <tr>\n      <th>2022-01-07 05:00:00+00:00</th>\n      <td>468.00</td>\n      <td>469.20</td>\n      <td>464.65</td>\n      <td>466.09</td>\n      <td>84895774.0</td>\n      <td>623749.0</td>\n      <td>466.940793</td>\n    </tr>\n    <tr>\n      <th>...</th>\n      <td>...</td>\n      <td>...</td>\n      <td>...</td>\n      <td>...</td>\n      <td>...</td>\n      <td>...</td>\n      <td>...</td>\n    </tr>\n    <tr>\n      <th>2022-10-18 04:00:00+00:00</th>\n      <td>375.07</td>\n      <td>375.45</td>\n      <td>367.52</td>\n      <td>371.13</td>\n      <td>96898206.0</td>\n      <td>675916.0</td>\n      <td>371.126991</td>\n    </tr>\n    <tr>\n      <th>2022-10-19 04:00:00+00:00</th>\n      <td>368.98</td>\n      <td>371.85</td>\n      <td>365.55</td>\n      <td>368.50</td>\n      <td>79481512.0</td>\n      <td>531675.0</td>\n      <td>368.665769</td>\n    </tr>\n    <tr>\n      <th>2022-10-20 04:00:00+00:00</th>\n      <td>368.07</td>\n      <td>372.67</td>\n      <td>364.61</td>\n      <td>365.41</td>\n      <td>87963935.0</td>\n      <td>634944.0</td>\n      <td>367.710482</td>\n    </tr>\n    <tr>\n      <th>2022-10-21 04:00:00+00:00</th>\n      <td>365.11</td>\n      <td>374.80</td>\n      <td>363.54</td>\n      <td>374.29</td>\n      <td>130542269.0</td>\n      <td>718723.0</td>\n      <td>369.862865</td>\n    </tr>\n    <tr>\n      <th>2022-10-24 04:00:00+00:00</th>\n      <td>375.94</td>\n      <td>380.06</td>\n      <td>373.11</td>\n      <td>378.87</td>\n      <td>85131661.0</td>\n      <td>624488.0</td>\n      <td>377.367392</td>\n    </tr>\n  </tbody>\n</table>\n<p>204 rows × 7 columns</p>\n</div>"
     },
     "execution_count": 27,
     "metadata": {},
     "output_type": "execute_result"
    }
   ],
   "source": [
    "df.loc[('SPY',)]"
   ],
   "metadata": {
    "collapsed": false
   }
  },
  {
   "cell_type": "code",
   "execution_count": 21,
   "outputs": [
    {
     "data": {
      "text/plain": "Index(['open', 'high', 'low', 'close', 'volume', 'trade_count', 'vwap'], dtype='object')"
     },
     "execution_count": 21,
     "metadata": {},
     "output_type": "execute_result"
    }
   ],
   "source": [
    "df.columns"
   ],
   "metadata": {
    "collapsed": false
   }
  },
  {
   "cell_type": "code",
   "execution_count": 32,
   "outputs": [
    {
     "data": {
      "text/plain": "                                  STOCHk_14_3_3  STOCHd_14_3_3\nsymbol timestamp                                              \nSPY    2022-01-03 20:00:00+00:00            NaN            NaN\n       2022-01-03 21:00:00+00:00            NaN            NaN\n       2022-01-03 22:00:00+00:00      88.757862            NaN\n       2022-01-03 23:00:00+00:00      85.534591            NaN\n       2022-01-04 00:00:00+00:00      85.849057      86.713836\n...                                         ...            ...\n       2022-10-24 20:00:00+00:00      87.934421      87.264141\n       2022-10-24 21:00:00+00:00      82.325030      85.759200\n       2022-10-24 22:00:00+00:00      83.671547      84.643666\n       2022-10-24 23:00:00+00:00      84.480011      83.492196\n       2022-10-25 08:00:00+00:00      84.244299      84.131953\n\n[3908 rows x 2 columns]",
      "text/html": "<div>\n<style scoped>\n    .dataframe tbody tr th:only-of-type {\n        vertical-align: middle;\n    }\n\n    .dataframe tbody tr th {\n        vertical-align: top;\n    }\n\n    .dataframe thead th {\n        text-align: right;\n    }\n</style>\n<table border=\"1\" class=\"dataframe\">\n  <thead>\n    <tr style=\"text-align: right;\">\n      <th></th>\n      <th></th>\n      <th>STOCHk_14_3_3</th>\n      <th>STOCHd_14_3_3</th>\n    </tr>\n    <tr>\n      <th>symbol</th>\n      <th>timestamp</th>\n      <th></th>\n      <th></th>\n    </tr>\n  </thead>\n  <tbody>\n    <tr>\n      <th rowspan=\"11\" valign=\"top\">SPY</th>\n      <th>2022-01-03 20:00:00+00:00</th>\n      <td>NaN</td>\n      <td>NaN</td>\n    </tr>\n    <tr>\n      <th>2022-01-03 21:00:00+00:00</th>\n      <td>NaN</td>\n      <td>NaN</td>\n    </tr>\n    <tr>\n      <th>2022-01-03 22:00:00+00:00</th>\n      <td>88.757862</td>\n      <td>NaN</td>\n    </tr>\n    <tr>\n      <th>2022-01-03 23:00:00+00:00</th>\n      <td>85.534591</td>\n      <td>NaN</td>\n    </tr>\n    <tr>\n      <th>2022-01-04 00:00:00+00:00</th>\n      <td>85.849057</td>\n      <td>86.713836</td>\n    </tr>\n    <tr>\n      <th>...</th>\n      <td>...</td>\n      <td>...</td>\n    </tr>\n    <tr>\n      <th>2022-10-24 20:00:00+00:00</th>\n      <td>87.934421</td>\n      <td>87.264141</td>\n    </tr>\n    <tr>\n      <th>2022-10-24 21:00:00+00:00</th>\n      <td>82.325030</td>\n      <td>85.759200</td>\n    </tr>\n    <tr>\n      <th>2022-10-24 22:00:00+00:00</th>\n      <td>83.671547</td>\n      <td>84.643666</td>\n    </tr>\n    <tr>\n      <th>2022-10-24 23:00:00+00:00</th>\n      <td>84.480011</td>\n      <td>83.492196</td>\n    </tr>\n    <tr>\n      <th>2022-10-25 08:00:00+00:00</th>\n      <td>84.244299</td>\n      <td>84.131953</td>\n    </tr>\n  </tbody>\n</table>\n<p>3908 rows × 2 columns</p>\n</div>"
     },
     "execution_count": 32,
     "metadata": {},
     "output_type": "execute_result"
    }
   ],
   "source": [
    " df.ta.stoch(append=True)"
   ],
   "metadata": {
    "collapsed": false
   }
  },
  {
   "cell_type": "code",
   "execution_count": 33,
   "outputs": [
    {
     "data": {
      "text/plain": "                                    open    high     low   close     volume  \\\nsymbol timestamp                                                              \nSPY    2022-01-01 00:00:00+00:00  475.07  475.32  475.04  475.32    19733.0   \n       2022-01-03 05:00:00+00:00  476.84  476.84  476.84  476.84     4500.0   \n       2022-01-03 09:00:00+00:00  476.38  477.25  476.38  477.25    57914.0   \n       2022-01-03 10:00:00+00:00  477.24  477.76  477.15  477.76    36511.0   \n       2022-01-03 11:00:00+00:00  477.76  478.09  477.76  478.00    74874.0   \n...                                  ...     ...     ...     ...        ...   \n       2022-10-24 20:00:00+00:00  378.84  378.89  378.21  378.40  8956807.0   \n       2022-10-24 21:00:00+00:00  378.37  378.75  378.35  378.47  2372381.0   \n       2022-10-24 22:00:00+00:00  378.47  379.24  378.30  379.24   162797.0   \n       2022-10-24 23:00:00+00:00  379.22  379.44  378.71  378.86   117350.0   \n       2022-10-25 08:00:00+00:00  378.00  379.25  378.00  378.70    33748.0   \n\n                                  trade_count        vwap  STOCHk_14_3_3  \\\nsymbol timestamp                                                           \nSPY    2022-01-01 00:00:00+00:00        120.0  475.145380            NaN   \n       2022-01-03 05:00:00+00:00          1.0  476.840000            NaN   \n       2022-01-03 09:00:00+00:00        562.0  476.804707            NaN   \n       2022-01-03 10:00:00+00:00        396.0  477.509115            NaN   \n       2022-01-03 11:00:00+00:00        497.0  477.985606            NaN   \n...                                       ...         ...            ...   \n       2022-10-24 20:00:00+00:00       8632.0  378.760068      87.934421   \n       2022-10-24 21:00:00+00:00       1291.0  378.848561      82.325030   \n       2022-10-24 22:00:00+00:00       1255.0  378.615564      83.671547   \n       2022-10-24 23:00:00+00:00       1113.0  379.117372      84.480011   \n       2022-10-25 08:00:00+00:00        280.0  378.876353      84.244299   \n\n                                  STOCHd_14_3_3  \nsymbol timestamp                                 \nSPY    2022-01-01 00:00:00+00:00            NaN  \n       2022-01-03 05:00:00+00:00            NaN  \n       2022-01-03 09:00:00+00:00            NaN  \n       2022-01-03 10:00:00+00:00            NaN  \n       2022-01-03 11:00:00+00:00            NaN  \n...                                         ...  \n       2022-10-24 20:00:00+00:00      87.264141  \n       2022-10-24 21:00:00+00:00      85.759200  \n       2022-10-24 22:00:00+00:00      84.643666  \n       2022-10-24 23:00:00+00:00      83.492196  \n       2022-10-25 08:00:00+00:00      84.131953  \n\n[3921 rows x 9 columns]",
      "text/html": "<div>\n<style scoped>\n    .dataframe tbody tr th:only-of-type {\n        vertical-align: middle;\n    }\n\n    .dataframe tbody tr th {\n        vertical-align: top;\n    }\n\n    .dataframe thead th {\n        text-align: right;\n    }\n</style>\n<table border=\"1\" class=\"dataframe\">\n  <thead>\n    <tr style=\"text-align: right;\">\n      <th></th>\n      <th></th>\n      <th>open</th>\n      <th>high</th>\n      <th>low</th>\n      <th>close</th>\n      <th>volume</th>\n      <th>trade_count</th>\n      <th>vwap</th>\n      <th>STOCHk_14_3_3</th>\n      <th>STOCHd_14_3_3</th>\n    </tr>\n    <tr>\n      <th>symbol</th>\n      <th>timestamp</th>\n      <th></th>\n      <th></th>\n      <th></th>\n      <th></th>\n      <th></th>\n      <th></th>\n      <th></th>\n      <th></th>\n      <th></th>\n    </tr>\n  </thead>\n  <tbody>\n    <tr>\n      <th rowspan=\"11\" valign=\"top\">SPY</th>\n      <th>2022-01-01 00:00:00+00:00</th>\n      <td>475.07</td>\n      <td>475.32</td>\n      <td>475.04</td>\n      <td>475.32</td>\n      <td>19733.0</td>\n      <td>120.0</td>\n      <td>475.145380</td>\n      <td>NaN</td>\n      <td>NaN</td>\n    </tr>\n    <tr>\n      <th>2022-01-03 05:00:00+00:00</th>\n      <td>476.84</td>\n      <td>476.84</td>\n      <td>476.84</td>\n      <td>476.84</td>\n      <td>4500.0</td>\n      <td>1.0</td>\n      <td>476.840000</td>\n      <td>NaN</td>\n      <td>NaN</td>\n    </tr>\n    <tr>\n      <th>2022-01-03 09:00:00+00:00</th>\n      <td>476.38</td>\n      <td>477.25</td>\n      <td>476.38</td>\n      <td>477.25</td>\n      <td>57914.0</td>\n      <td>562.0</td>\n      <td>476.804707</td>\n      <td>NaN</td>\n      <td>NaN</td>\n    </tr>\n    <tr>\n      <th>2022-01-03 10:00:00+00:00</th>\n      <td>477.24</td>\n      <td>477.76</td>\n      <td>477.15</td>\n      <td>477.76</td>\n      <td>36511.0</td>\n      <td>396.0</td>\n      <td>477.509115</td>\n      <td>NaN</td>\n      <td>NaN</td>\n    </tr>\n    <tr>\n      <th>2022-01-03 11:00:00+00:00</th>\n      <td>477.76</td>\n      <td>478.09</td>\n      <td>477.76</td>\n      <td>478.00</td>\n      <td>74874.0</td>\n      <td>497.0</td>\n      <td>477.985606</td>\n      <td>NaN</td>\n      <td>NaN</td>\n    </tr>\n    <tr>\n      <th>...</th>\n      <td>...</td>\n      <td>...</td>\n      <td>...</td>\n      <td>...</td>\n      <td>...</td>\n      <td>...</td>\n      <td>...</td>\n      <td>...</td>\n      <td>...</td>\n    </tr>\n    <tr>\n      <th>2022-10-24 20:00:00+00:00</th>\n      <td>378.84</td>\n      <td>378.89</td>\n      <td>378.21</td>\n      <td>378.40</td>\n      <td>8956807.0</td>\n      <td>8632.0</td>\n      <td>378.760068</td>\n      <td>87.934421</td>\n      <td>87.264141</td>\n    </tr>\n    <tr>\n      <th>2022-10-24 21:00:00+00:00</th>\n      <td>378.37</td>\n      <td>378.75</td>\n      <td>378.35</td>\n      <td>378.47</td>\n      <td>2372381.0</td>\n      <td>1291.0</td>\n      <td>378.848561</td>\n      <td>82.325030</td>\n      <td>85.759200</td>\n    </tr>\n    <tr>\n      <th>2022-10-24 22:00:00+00:00</th>\n      <td>378.47</td>\n      <td>379.24</td>\n      <td>378.30</td>\n      <td>379.24</td>\n      <td>162797.0</td>\n      <td>1255.0</td>\n      <td>378.615564</td>\n      <td>83.671547</td>\n      <td>84.643666</td>\n    </tr>\n    <tr>\n      <th>2022-10-24 23:00:00+00:00</th>\n      <td>379.22</td>\n      <td>379.44</td>\n      <td>378.71</td>\n      <td>378.86</td>\n      <td>117350.0</td>\n      <td>1113.0</td>\n      <td>379.117372</td>\n      <td>84.480011</td>\n      <td>83.492196</td>\n    </tr>\n    <tr>\n      <th>2022-10-25 08:00:00+00:00</th>\n      <td>378.00</td>\n      <td>379.25</td>\n      <td>378.00</td>\n      <td>378.70</td>\n      <td>33748.0</td>\n      <td>280.0</td>\n      <td>378.876353</td>\n      <td>84.244299</td>\n      <td>84.131953</td>\n    </tr>\n  </tbody>\n</table>\n<p>3921 rows × 9 columns</p>\n</div>"
     },
     "execution_count": 33,
     "metadata": {},
     "output_type": "execute_result"
    }
   ],
   "source": [
    "df"
   ],
   "metadata": {
    "collapsed": false
   }
  },
  {
   "cell_type": "code",
   "execution_count": null,
   "outputs": [],
   "source": [],
   "metadata": {
    "collapsed": false
   }
  },
  {
   "cell_type": "code",
   "execution_count": null,
   "outputs": [],
   "source": [],
   "metadata": {
    "collapsed": false
   }
  },
  {
   "cell_type": "code",
   "execution_count": null,
   "outputs": [],
   "source": [],
   "metadata": {
    "collapsed": false
   }
  },
  {
   "cell_type": "code",
   "execution_count": null,
   "outputs": [],
   "source": [],
   "metadata": {
    "collapsed": false
   }
  }
 ],
 "metadata": {
  "kernelspec": {
   "name": "vbt_opt",
   "language": "python",
   "display_name": "vbt_opt"
  },
  "language_info": {
   "codemirror_mode": {
    "name": "ipython",
    "version": 2
   },
   "file_extension": ".py",
   "mimetype": "text/x-python",
   "name": "python",
   "nbconvert_exporter": "python",
   "pygments_lexer": "ipython2",
   "version": "2.7.6"
  }
 },
 "nbformat": 4,
 "nbformat_minor": 0
}
